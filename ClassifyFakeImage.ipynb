{
 "metadata": {
  "language_info": {
   "codemirror_mode": {
    "name": "ipython",
    "version": 3
   },
   "file_extension": ".py",
   "mimetype": "text/x-python",
   "name": "python",
   "nbconvert_exporter": "python",
   "pygments_lexer": "ipython3",
   "version": 3
  },
  "orig_nbformat": 2,
  "kernelspec": {
   "name": "python_defaultSpec_1596868313178",
   "display_name": "Python 3.7.6 64-bit ('base': conda)"
  }
 },
 "nbformat": 4,
 "nbformat_minor": 2,
 "cells": [
  {
   "cell_type": "code",
   "execution_count": 1,
   "metadata": {
    "tags": []
   },
   "outputs": [
    {
     "output_type": "stream",
     "name": "stderr",
     "text": "Using TensorFlow backend.\n(2041, 300, 300, 3)\n(2041,)\n"
    }
   ],
   "source": [
    "from keras_preprocessing import image\n",
    "import numpy as np\n",
    "import cv2\n",
    "import os\n",
    "import matplotlib.pyplot as plt\n",
    "\n",
    "folders = ['real_fake_datasets/real_and_fake_face/fake', 'real_fake_datasets/real_and_fake_face/real']\n",
    "\n",
    "images = []\n",
    "labels = []\n",
    "\n",
    "def load_dataset(folder):\n",
    "    for filename in os.listdir(folder):\n",
    "        try:\n",
    "            img = cv2.imread(os.path.join(folder, filename))\n",
    "            img = cv2.resize(img, (300,300))\n",
    "            img = image.img_to_array(img)\n",
    "            label = folder.split(os.path.sep)[-1]\n",
    "            images.append(img)\n",
    "            labels.append(label)\n",
    "        except:\n",
    "            continue\n",
    "\n",
    "for folder in folders:\n",
    "    load_dataset(folder)\n",
    "x = np.array(images)/255\n",
    "y = np.array(labels)\n",
    "print(x.shape)\n",
    "print(y.shape)"
   ]
  },
  {
   "cell_type": "code",
   "execution_count": 2,
   "metadata": {
    "tags": []
   },
   "outputs": [
    {
     "output_type": "stream",
     "name": "stdout",
     "text": "(2041, 1)\n"
    }
   ],
   "source": [
    "from sklearn.preprocessing import LabelEncoder, OneHotEncoder\n",
    "#integer encoder\n",
    "integer_encoded = LabelEncoder().fit_transform(y)\n",
    "integer_encoded = integer_encoded.reshape(len(integer_encoded), 1)\n",
    "print(integer_encoded.shape)\n",
    "\n",
    "#One hot encoding (binary encoded)\n",
    "onehot_encoder = OneHotEncoder(sparse=False).fit_transform(integer_encoded)\n",
    "y = np.array(onehot_encoder)\n"
   ]
  },
  {
   "cell_type": "code",
   "execution_count": 4,
   "metadata": {
    "tags": []
   },
   "outputs": [
    {
     "output_type": "stream",
     "name": "stdout",
     "text": "(1734, 300, 300, 3)\n(307, 300, 300, 3)\n(1734, 2)\n(307, 2)\n"
    }
   ],
   "source": [
    "from sklearn.model_selection import train_test_split\n",
    "\n",
    "(x_train, x_test, y_train, y_test) = train_test_split(x, y, test_size=0.15, random_state=42)\n",
    "\n",
    "print(x_train.shape)\n",
    "print(x_test.shape)\n",
    "print(y_train.shape)\n",
    "print(y_test.shape)"
   ]
  },
  {
   "cell_type": "code",
   "execution_count": 5,
   "metadata": {
    "tags": []
   },
   "outputs": [
    {
     "output_type": "stream",
     "name": "stdout",
     "text": "Model: \"sequential\"\n_________________________________________________________________\nLayer (type)                 Output Shape              Param #   \n=================================================================\nconv2d (Conv2D)              (None, 298, 298, 16)      448       \n_________________________________________________________________\nmax_pooling2d (MaxPooling2D) (None, 99, 99, 16)        0         \n_________________________________________________________________\nactivation (Activation)      (None, 99, 99, 16)        0         \n_________________________________________________________________\nconv2d_1 (Conv2D)            (None, 97, 97, 32)        4640      \n_________________________________________________________________\nmax_pooling2d_1 (MaxPooling2 (None, 32, 32, 32)        0         \n_________________________________________________________________\nconv2d_2 (Conv2D)            (None, 30, 30, 70)        20230     \n_________________________________________________________________\nmax_pooling2d_2 (MaxPooling2 (None, 10, 10, 70)        0         \n_________________________________________________________________\nconv2d_3 (Conv2D)            (None, 8, 8, 70)          44170     \n_________________________________________________________________\nconv2d_4 (Conv2D)            (None, 6, 6, 120)         75720     \n_________________________________________________________________\nconv2d_5 (Conv2D)            (None, 4, 4, 64)          69184     \n_________________________________________________________________\nmax_pooling2d_3 (MaxPooling2 (None, 1, 1, 64)          0         \n_________________________________________________________________\nflatten (Flatten)            (None, 64)                0         \n_________________________________________________________________\ndense (Dense)                (None, 150)               9750      \n_________________________________________________________________\ndense_1 (Dense)              (None, 80)                12080     \n_________________________________________________________________\ndense_2 (Dense)              (None, 40)                3240      \n_________________________________________________________________\ndense_3 (Dense)              (None, 2)                 82        \n=================================================================\nTotal params: 239,544\nTrainable params: 239,544\nNon-trainable params: 0\n_________________________________________________________________\nNone\n"
    }
   ],
   "source": [
    "#Convolution NN\n",
    "from keras.layers import Conv2D, MaxPooling2D, Dense, Flatten, Activation\n",
    "from keras.models import Sequential\n",
    "\n",
    "n_classes = len(folders)\n",
    "\n",
    "model = Sequential()\n",
    "model.add(Conv2D(16, (3, 3), input_shape=(300,300,3), activation='relu'))\n",
    "model.add(MaxPooling2D(pool_size = (3, 3)))\n",
    "model.add(Activation('relu'))\n",
    "\n",
    "\n",
    "model.add(Conv2D(32, (3, 3) ,activation='relu'))\n",
    "model.add(MaxPooling2D(pool_size = (3, 3)))\n",
    "\n",
    "\n",
    "model.add(Conv2D(70, (3, 3) ,activation='relu'))\n",
    "model.add(MaxPooling2D(pool_size = (3, 3)))\n",
    "\n",
    "model.add(Conv2D(70, (3, 3) ,activation='relu'))\n",
    "model.add(Conv2D(120, (3, 3) ,activation='relu'))\n",
    "model.add(Conv2D(64, (3, 3) ,activation='relu'))\n",
    "model.add(MaxPooling2D(pool_size = (3, 3)))\n",
    "\n",
    "\n",
    "\n",
    "model.add(Flatten())\n",
    "model.add(Dense(150, activation='relu'))\n",
    "model.add(Dense(80, activation='relu'))\n",
    "model.add(Dense(40, activation='relu'))\n",
    "model.add(Dense(n_classes, activation='softmax'))\n",
    "\n",
    "model.compile(loss='categorical_crossentropy', metrics=['accuracy'], optimizer='adam')\n",
    "print(model.summary())"
   ]
  },
  {
   "cell_type": "code",
   "execution_count": null,
   "metadata": {},
   "outputs": [],
   "source": [
    "history = model.fit(x_train, y_train, epochs=50, batch_size=32)\n",
    "plt.plot(history.history['loss'])\n",
    "plt.title('MLP model loss')\n",
    "plt.ylabel('loss')\n",
    "plt.xlabel('epoch')\n",
    "plt.show()"
   ]
  },
  {
   "cell_type": "code",
   "execution_count": null,
   "metadata": {},
   "outputs": [],
   "source": []
  }
 ]
}